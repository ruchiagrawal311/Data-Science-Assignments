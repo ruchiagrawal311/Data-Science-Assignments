{
 "cells": [
  {
   "cell_type": "markdown",
   "id": "ef65ad52",
   "metadata": {},
   "source": [
    "1. Write a Python program to reverse a string without using any built-in string reversal functions."
   ]
  },
  {
   "cell_type": "code",
   "execution_count": 2,
   "id": "896a9959",
   "metadata": {},
   "outputs": [
    {
     "name": "stdout",
     "output_type": "stream",
     "text": [
      "!dlroW ,olleH\n"
     ]
    }
   ],
   "source": [
    "def reverse_string(input_string):\n",
    "    reversed_string = \"\"\n",
    "    for char in input_string:\n",
    "        reversed_string = char + reversed_string\n",
    "    return reversed_string\n",
    "\n",
    "# Example \n",
    "string_to_reverse = \"Hello, World!\"\n",
    "reversed_string = reverse_string(string_to_reverse)\n",
    "print(reversed_string)\n"
   ]
  },
  {
   "cell_type": "markdown",
   "id": "3fa53717",
   "metadata": {},
   "source": [
    "2. Implement a function to check if a given string is a palindrome.\n"
   ]
  },
  {
   "cell_type": "code",
   "execution_count": 3,
   "id": "6d305f11",
   "metadata": {},
   "outputs": [
    {
     "name": "stdout",
     "output_type": "stream",
     "text": [
      "The string is a palindrome.\n"
     ]
    }
   ],
   "source": [
    "def is_palindrome(input_string):\n",
    "    # Remove non-alphanumeric characters and convert to lowercase\n",
    "    cleaned_string = ''.join(char.lower() for char in input_string if char.isalnum())\n",
    "\n",
    "    # Check if the cleaned string is equal to its reverse\n",
    "    return cleaned_string == cleaned_string[::-1]\n",
    "\n",
    "# Example usage\n",
    "string_to_check = \"A man, a plan, a canal: Panama\"\n",
    "if is_palindrome(string_to_check):\n",
    "    print(\"The string is a palindrome.\")\n",
    "else:\n",
    "    print(\"The string is not a palindrome.\")\n"
   ]
  },
  {
   "cell_type": "markdown",
   "id": "e70ec08e",
   "metadata": {},
   "source": [
    "Write a program to find the largest element in a given list."
   ]
  },
  {
   "cell_type": "code",
   "execution_count": 4,
   "id": "22646069",
   "metadata": {},
   "outputs": [
    {
     "name": "stdout",
     "output_type": "stream",
     "text": [
      "The largest element in the list is: 67\n"
     ]
    }
   ],
   "source": [
    "def find_largest_element(lst):\n",
    "    if not lst:\n",
    "        return None\n",
    "\n",
    "    largest_element = lst[0]\n",
    "    for element in lst:\n",
    "        if element > largest_element:\n",
    "            largest_element = element\n",
    "\n",
    "    return largest_element\n",
    "\n",
    "# Example usage\n",
    "my_list = [12, 45, 67, 23, 9, 50]\n",
    "largest = find_largest_element(my_list)\n",
    "print(\"The largest element in the list is:\", largest)\n"
   ]
  },
  {
   "cell_type": "markdown",
   "id": "f1cbfc93",
   "metadata": {},
   "source": [
    "4. Implement a function to count the occurrence of each element in a list."
   ]
  },
  {
   "cell_type": "code",
   "execution_count": 5,
   "id": "2bf7e522",
   "metadata": {},
   "outputs": [
    {
     "name": "stdout",
     "output_type": "stream",
     "text": [
      "Element occurrences: {1: 2, 2: 2, 3: 2, 4: 3, 5: 1}\n"
     ]
    }
   ],
   "source": [
    "def count_occurrences(lst):\n",
    "    occurrences = {}\n",
    "    for element in lst:\n",
    "        if element in occurrences:\n",
    "            occurrences[element] += 1\n",
    "        else:\n",
    "            occurrences[element] = 1\n",
    "    return occurrences\n",
    "\n",
    "# Example usage\n",
    "my_list = [1, 2, 3, 2, 4, 1, 3, 4, 4, 5]\n",
    "occurrences = count_occurrences(my_list)\n",
    "print(\"Element occurrences:\", occurrences)\n"
   ]
  },
  {
   "cell_type": "markdown",
   "id": "9c3957a6",
   "metadata": {},
   "source": [
    "5. Write a Python program to find the second largest number in a list."
   ]
  },
  {
   "cell_type": "code",
   "execution_count": 6,
   "id": "b627f79a",
   "metadata": {},
   "outputs": [
    {
     "name": "stdout",
     "output_type": "stream",
     "text": [
      "The second largest number in the list is: 50\n"
     ]
    }
   ],
   "source": [
    "def find_second_largest(lst):\n",
    "    if len(lst) < 2:\n",
    "        return None\n",
    "\n",
    "    largest = lst[0]\n",
    "    second_largest = float('-inf')\n",
    "\n",
    "    for num in lst:\n",
    "        if num > largest:\n",
    "            second_largest = largest\n",
    "            largest = num\n",
    "        elif num > second_largest and num != largest:\n",
    "            second_largest = num\n",
    "\n",
    "    if second_largest == float('-inf'):\n",
    "        return None\n",
    "    else:\n",
    "        return second_largest\n",
    "\n",
    "# Example usage\n",
    "my_list = [12, 45, 67, 23, 9, 50]\n",
    "second_largest = find_second_largest(my_list)\n",
    "if second_largest is not None:\n",
    "    print(\"The second largest number in the list is:\", second_largest)\n",
    "else:\n",
    "    print(\"There is no second largest number in the list.\")\n"
   ]
  },
  {
   "cell_type": "markdown",
   "id": "9ca4009e",
   "metadata": {},
   "source": [
    "6. Implement a function to remove duplicate elements from a list."
   ]
  },
  {
   "cell_type": "code",
   "execution_count": 9,
   "id": "3816f8db",
   "metadata": {},
   "outputs": [
    {
     "name": "stdout",
     "output_type": "stream",
     "text": [
      "List with duplicates removed: [1, 2, 3, 4, 5]\n"
     ]
    }
   ],
   "source": [
    "def remove_duplicates(lst):\n",
    "    return list(set(lst))\n",
    "\n",
    "# Example usage\n",
    "my_list = [1, 2, 3, 2, 4, 1, 3, 4, 4, 5]\n",
    "unique_list = remove_duplicates(my_list)\n",
    "print(\"List with duplicates removed:\", unique_list)\n"
   ]
  },
  {
   "cell_type": "markdown",
   "id": "60cada14",
   "metadata": {},
   "source": [
    "7. Write a program to calculate the factorial of a given number."
   ]
  },
  {
   "cell_type": "code",
   "execution_count": 10,
   "id": "add69cc2",
   "metadata": {},
   "outputs": [
    {
     "name": "stdout",
     "output_type": "stream",
     "text": [
      "Factorial of 5 is: 120\n"
     ]
    }
   ],
   "source": [
    "def factorial(n):\n",
    "    if n < 0:\n",
    "        return None\n",
    "    if n == 0 or n == 1:\n",
    "        return 1\n",
    "    else:\n",
    "        return n * factorial(n - 1)\n",
    "\n",
    "# Example usage\n",
    "number = 5\n",
    "factorial_result = factorial(number)\n",
    "print(\"Factorial of\", number, \"is:\", factorial_result)\n"
   ]
  },
  {
   "cell_type": "markdown",
   "id": "1ff43631",
   "metadata": {},
   "source": [
    "8. Implement a function to check if a given number is prime."
   ]
  },
  {
   "cell_type": "code",
   "execution_count": 11,
   "id": "cee8a8a7",
   "metadata": {},
   "outputs": [
    {
     "name": "stdout",
     "output_type": "stream",
     "text": [
      "17 is a prime number.\n"
     ]
    }
   ],
   "source": [
    "def is_prime(n):\n",
    "    if n < 2:\n",
    "        return False\n",
    "    for i in range(2, int(n**0.5) + 1):\n",
    "        if n % i == 0:\n",
    "            return False\n",
    "    return True\n",
    "\n",
    "# Example usage\n",
    "number = 17\n",
    "if is_prime(number):\n",
    "    print(number, \"is a prime number.\")\n",
    "else:\n",
    "    print(number, \"is not a prime number.\")\n"
   ]
  },
  {
   "cell_type": "markdown",
   "id": "e9bca7ef",
   "metadata": {},
   "source": [
    "9. Write a Python program to sort a list of integers in ascending order."
   ]
  },
  {
   "cell_type": "code",
   "execution_count": 12,
   "id": "90b56837",
   "metadata": {},
   "outputs": [
    {
     "name": "stdout",
     "output_type": "stream",
     "text": [
      "Sorted list: [1, 3, 5, 7, 9]\n"
     ]
    }
   ],
   "source": [
    "def sort_list(lst):\n",
    "    return sorted(lst)\n",
    "\n",
    "# Example usage\n",
    "my_list = [9, 3, 7, 1, 5]\n",
    "sorted_list = sort_list(my_list)\n",
    "print(\"Sorted list:\", sorted_list)\n"
   ]
  },
  {
   "cell_type": "markdown",
   "id": "3a472ad2",
   "metadata": {},
   "source": [
    "10. Implement a function to find the sum of all numbers in a list.\n"
   ]
  },
  {
   "cell_type": "code",
   "execution_count": 13,
   "id": "c13c4c44",
   "metadata": {},
   "outputs": [
    {
     "name": "stdout",
     "output_type": "stream",
     "text": [
      "Sum of numbers: 15\n"
     ]
    }
   ],
   "source": [
    "def sum_of_numbers(lst):\n",
    "    return sum(lst)\n",
    "\n",
    "# Example usage\n",
    "my_list = [1, 2, 3, 4, 5]\n",
    "sum_result = sum_of_numbers(my_list)\n",
    "print(\"Sum of numbers:\", sum_result)\n"
   ]
  },
  {
   "cell_type": "markdown",
   "id": "30d82b1c",
   "metadata": {},
   "source": [
    "11. Write a program to find the common elements between two lists."
   ]
  },
  {
   "cell_type": "code",
   "execution_count": 15,
   "id": "76cd3c28",
   "metadata": {},
   "outputs": [
    {
     "name": "stdout",
     "output_type": "stream",
     "text": [
      "Common elements: [4, 5]\n"
     ]
    }
   ],
   "source": [
    "def find_common_elements(list1, list2):\n",
    "    return list(set(list1) & set(list2))\n",
    "\n",
    "# Example usage\n",
    "list1 = [1, 2, 3, 4, 5]\n",
    "list2 = [4, 5, 6, 7, 8]\n",
    "common_elements = find_common_elements(list1, list2)\n",
    "print(\"Common elements:\", common_elements)\n"
   ]
  },
  {
   "cell_type": "markdown",
   "id": "bc9c86c9",
   "metadata": {},
   "source": [
    "12. Implement a function to check if a given string is an anagram of another string."
   ]
  },
  {
   "cell_type": "code",
   "execution_count": 16,
   "id": "f9c051a5",
   "metadata": {},
   "outputs": [
    {
     "name": "stdout",
     "output_type": "stream",
     "text": [
      "The strings are anagrams.\n"
     ]
    }
   ],
   "source": [
    "def is_anagram(str1, str2):\n",
    "    return sorted(str1.lower()) == sorted(str2.lower())\n",
    "\n",
    "# Example usage\n",
    "string1 = \"listen\"\n",
    "string2 = \"silent\"\n",
    "if is_anagram(string1, string2):\n",
    "    print(\"The strings are anagrams.\")\n",
    "else:\n",
    "    print(\"The strings are not anagrams.\")\n"
   ]
  },
  {
   "cell_type": "markdown",
   "id": "6ad52e16",
   "metadata": {},
   "source": [
    "13. Write a Python program to generate all permutations of a given string."
   ]
  },
  {
   "cell_type": "code",
   "execution_count": 17,
   "id": "d8393d35",
   "metadata": {},
   "outputs": [
    {
     "name": "stdout",
     "output_type": "stream",
     "text": [
      "Permutations: ['abc', 'acb', 'bac', 'bca', 'cab', 'cba']\n"
     ]
    }
   ],
   "source": [
    "import itertools\n",
    "\n",
    "def generate_permutations(input_string):\n",
    "    permutations = [''.join(p) for p in itertools.permutations(input_string)]\n",
    "    return permutations\n",
    "\n",
    "# Example usage\n",
    "string = \"abc\"\n",
    "permutations = generate_permutations(string)\n",
    "print(\"Permutations:\", permutations)\n"
   ]
  },
  {
   "cell_type": "markdown",
   "id": "f12e8be3",
   "metadata": {},
   "source": [
    "14. Implement a function to calculate the Fibonacci sequence up to a given number of terms."
   ]
  },
  {
   "cell_type": "code",
   "execution_count": 18,
   "id": "941b3df5",
   "metadata": {},
   "outputs": [
    {
     "name": "stdout",
     "output_type": "stream",
     "text": [
      "Fibonacci sequence: [0, 1, 1, 2, 3, 5, 8, 13, 21, 34]\n"
     ]
    }
   ],
   "source": [
    "def fibonacci_sequence(n):\n",
    "    sequence = [0, 1]\n",
    "    for i in range(2, n):\n",
    "        sequence.append(sequence[i-1] + sequence[i-2])\n",
    "    return sequence\n",
    "\n",
    "# Example usage\n",
    "num_terms = 10\n",
    "fibonacci_sequence = fibonacci_sequence(num_terms)\n",
    "print(\"Fibonacci sequence:\", fibonacci_sequence)\n"
   ]
  },
  {
   "cell_type": "markdown",
   "id": "b7be010b",
   "metadata": {},
   "source": [
    "15. Write a program to find the median of a list of numbers."
   ]
  },
  {
   "cell_type": "code",
   "execution_count": 20,
   "id": "d2b769be",
   "metadata": {},
   "outputs": [
    {
     "name": "stdout",
     "output_type": "stream",
     "text": [
      "Median: 5.5\n"
     ]
    }
   ],
   "source": [
    "def find_median(lst):\n",
    "    sorted_list = sorted(lst)\n",
    "    length = len(sorted_list)\n",
    "    if length % 2 == 0:\n",
    "        return (sorted_list[length//2] + sorted_list[length//2 - 1]) / 2\n",
    "    else:\n",
    "        return sorted_list[length//2]\n",
    "\n",
    "# Example usage\n",
    "numbers = [5, 2, 9, 1, 7, 6]\n",
    "median = find_median(numbers)\n",
    "print(\"Median:\", median)\n"
   ]
  },
  {
   "cell_type": "markdown",
   "id": "501d7e41",
   "metadata": {},
   "source": [
    "16. Implement a function to check if a given list is sorted in non-decreasing order."
   ]
  },
  {
   "cell_type": "code",
   "execution_count": 26,
   "id": "bcf99fab",
   "metadata": {},
   "outputs": [
    {
     "name": "stdout",
     "output_type": "stream",
     "text": [
      "The list is sorted.\n"
     ]
    }
   ],
   "source": [
    "def is_sorted(lst):\n",
    "    return all(lst[i] <= lst[i + 1] for i in range(len(lst) - 1))\n",
    "\n",
    "# Example usage\n",
    "my_list = [1, 2, 3, 4, 5]\n",
    "if is_sorted(my_list):\n",
    "    print(\"The list is sorted.\")\n",
    "else:\n",
    "    print(\"The list is not sorted.\")\n"
   ]
  },
  {
   "cell_type": "markdown",
   "id": "c391b86c",
   "metadata": {},
   "source": [
    "17. Write a Python program to find the intersection of two lists."
   ]
  },
  {
   "cell_type": "code",
   "execution_count": 25,
   "id": "3b09261a",
   "metadata": {},
   "outputs": [
    {
     "name": "stdout",
     "output_type": "stream",
     "text": [
      "Intersection: [4, 5]\n"
     ]
    }
   ],
   "source": [
    "def find_intersection(list1, list2):\n",
    "    return list(set(list1) & set(list2))\n",
    "\n",
    "# Example usage\n",
    "list1 = [1, 2, 3, 4, 5]\n",
    "list2 = [4, 5, 6, 7, 8]\n",
    "intersection = find_intersection(list1, list2)\n",
    "print(\"Intersection:\", intersection)\n"
   ]
  },
  {
   "cell_type": "markdown",
   "id": "1c5ba595",
   "metadata": {},
   "source": [
    "18. Implement a function to find the maximum subarray sum in a given list."
   ]
  },
  {
   "cell_type": "code",
   "execution_count": 24,
   "id": "26c38904",
   "metadata": {},
   "outputs": [
    {
     "name": "stdout",
     "output_type": "stream",
     "text": [
      "Maximum subarray sum: 6\n"
     ]
    }
   ],
   "source": [
    "def find_max_subarray_sum(lst):\n",
    "    if len(lst) == 0:\n",
    "        return 0\n",
    "\n",
    "    max_sum = current_sum = lst[0]\n",
    "    for num in lst[1:]:\n",
    "        current_sum = max(num, current_sum + num)\n",
    "        max_sum = max(max_sum, current_sum)\n",
    "    \n",
    "    return max_sum\n",
    "\n",
    "# Example usage\n",
    "my_list = [-2, 1, -3, 4, -1, 2, 1, -5, 4]\n",
    "max_sum = find_max_subarray_sum(my_list)\n",
    "print(\"Maximum subarray sum:\", max_sum)\n"
   ]
  },
  {
   "cell_type": "markdown",
   "id": "4b8324db",
   "metadata": {},
   "source": [
    "19. Write a program to remove all vowels from a given string."
   ]
  },
  {
   "cell_type": "code",
   "execution_count": 23,
   "id": "7f3c3643",
   "metadata": {},
   "outputs": [
    {
     "name": "stdout",
     "output_type": "stream",
     "text": [
      "String without vowels: Hll, Wrld!\n"
     ]
    }
   ],
   "source": [
    "def remove_vowels(input_string):\n",
    "    vowels = \"aeiouAEIOU\"\n",
    "    return ''.join(char for char in input_string if char not in vowels)\n",
    "\n",
    "# Example usage\n",
    "string = \"Hello, World!\"\n",
    "new_string = remove_vowels(string)\n",
    "print(\"String without vowels:\", new_string)\n"
   ]
  },
  {
   "cell_type": "markdown",
   "id": "e9c5e953",
   "metadata": {},
   "source": [
    "20. Implement a function to reverse the order of words in a given sentence."
   ]
  },
  {
   "cell_type": "code",
   "execution_count": 22,
   "id": "3f0c2da8",
   "metadata": {},
   "outputs": [
    {
     "name": "stdout",
     "output_type": "stream",
     "text": [
      "Reversed sentence: day. great a Have World! Hello,\n"
     ]
    }
   ],
   "source": [
    "def reverse_sentence(sentence):\n",
    "    words = sentence.split()\n",
    "    reversed_words = ' '.join(reversed(words))\n",
    "    return reversed_words\n",
    "\n",
    "# Example usage\n",
    "sentence = \"Hello, World! Have a great day.\"\n",
    "reversed_sentence = reverse_sentence(sentence)\n",
    "print(\"Reversed sentence:\", reversed_sentence)\n"
   ]
  },
  {
   "cell_type": "markdown",
   "id": "b6948288",
   "metadata": {},
   "source": [
    "21. Write a Python program to check if two strings are anagrams of each other."
   ]
  },
  {
   "cell_type": "code",
   "execution_count": 27,
   "id": "80bc7e69",
   "metadata": {},
   "outputs": [
    {
     "name": "stdout",
     "output_type": "stream",
     "text": [
      "The strings are anagrams.\n"
     ]
    }
   ],
   "source": [
    "from collections import Counter\n",
    "\n",
    "def are_anagrams(str1, str2):\n",
    "    return Counter(str1.lower()) == Counter(str2.lower())\n",
    "\n",
    "# Example usage\n",
    "string1 = \"listen\"\n",
    "string2 = \"silent\"\n",
    "if are_anagrams(string1, string2):\n",
    "    print(\"The strings are anagrams.\")\n",
    "else:\n",
    "    print(\"The strings are not anagrams.\")\n"
   ]
  },
  {
   "cell_type": "markdown",
   "id": "1a5b2e71",
   "metadata": {},
   "source": [
    "22. Implement a function to find the first non-repeating character in a string."
   ]
  },
  {
   "cell_type": "code",
   "execution_count": 28,
   "id": "abf42aaf",
   "metadata": {},
   "outputs": [
    {
     "name": "stdout",
     "output_type": "stream",
     "text": [
      "First non-repeating character: c\n"
     ]
    }
   ],
   "source": [
    "from collections import OrderedDict\n",
    "\n",
    "def find_first_non_repeating_character(input_string):\n",
    "    char_counts = OrderedDict()\n",
    "    for char in input_string:\n",
    "        char_counts[char] = char_counts.get(char, 0) + 1\n",
    "    for char, count in char_counts.items():\n",
    "        if count == 1:\n",
    "            return char\n",
    "    return None\n",
    "\n",
    "# Example usage\n",
    "string = \"aabbcddde\"\n",
    "first_non_repeating_char = find_first_non_repeating_character(string)\n",
    "if first_non_repeating_char:\n",
    "    print(\"First non-repeating character:\", first_non_repeating_char)\n",
    "else:\n",
    "    print(\"There is no non-repeating character.\")\n"
   ]
  },
  {
   "cell_type": "markdown",
   "id": "9ccafbf3",
   "metadata": {},
   "source": [
    "23. Write a program to find the prime factors of a given number."
   ]
  },
  {
   "cell_type": "code",
   "execution_count": 29,
   "id": "35a086a0",
   "metadata": {},
   "outputs": [
    {
     "name": "stdout",
     "output_type": "stream",
     "text": [
      "Prime factors of 36 : [2, 2, 3, 3]\n"
     ]
    }
   ],
   "source": [
    "def find_prime_factors(n):\n",
    "    factors = []\n",
    "    divisor = 2\n",
    "    while divisor <= n:\n",
    "        if n % divisor == 0:\n",
    "            factors.append(divisor)\n",
    "            n = n // divisor\n",
    "        else:\n",
    "            divisor += 1\n",
    "    return factors\n",
    "\n",
    "# Example usage\n",
    "number = 36\n",
    "prime_factors = find_prime_factors(number)\n",
    "print(\"Prime factors of\", number, \":\", prime_factors)\n"
   ]
  },
  {
   "cell_type": "markdown",
   "id": "75e4230a",
   "metadata": {},
   "source": [
    "24. Implement a function to check if a given number is a power of two."
   ]
  },
  {
   "cell_type": "code",
   "execution_count": 30,
   "id": "1fb95839",
   "metadata": {},
   "outputs": [
    {
     "name": "stdout",
     "output_type": "stream",
     "text": [
      "16 is a power of two.\n"
     ]
    }
   ],
   "source": [
    "def is_power_of_two(n):\n",
    "    if n <= 0:\n",
    "        return False\n",
    "    return (n & (n - 1)) == 0\n",
    "\n",
    "# Example usage\n",
    "number = 16\n",
    "if is_power_of_two(number):\n",
    "    print(number, \"is a power of two.\")\n",
    "else:\n",
    "    print(number, \"is not a power of two.\")\n"
   ]
  },
  {
   "cell_type": "markdown",
   "id": "da3fb52a",
   "metadata": {},
   "source": [
    "25. Write a Python program to merge two sorted lists into a single sorted list."
   ]
  },
  {
   "cell_type": "code",
   "execution_count": 31,
   "id": "b570dc98",
   "metadata": {},
   "outputs": [
    {
     "name": "stdout",
     "output_type": "stream",
     "text": [
      "Merged list: [1, 2, 3, 4, 5, 6, 7, 8]\n"
     ]
    }
   ],
   "source": [
    "def merge_sorted_lists(list1, list2):\n",
    "    merged_list = []\n",
    "    i = j = 0\n",
    "    while i < len(list1) and j < len(list2):\n",
    "        if list1[i] <= list2[j]:\n",
    "            merged_list.append(list1[i])\n",
    "            i += 1\n",
    "        else:\n",
    "            merged_list.append(list2[j])\n",
    "            j += 1\n",
    "    while i < len(list1):\n",
    "        merged_list.append(list1[i])\n",
    "        i += 1\n",
    "    while j < len(list2):\n",
    "        merged_list.append(list2[j])\n",
    "        j += 1\n",
    "    return merged_list\n",
    "\n",
    "# Example usage\n",
    "list1 = [1, 3, 5, 7]\n",
    "list2 = [2, 4, 6, 8]\n",
    "merged = merge_sorted_lists(list1, list2)\n",
    "print(\"Merged list:\", merged)\n"
   ]
  },
  {
   "cell_type": "markdown",
   "id": "3f280b89",
   "metadata": {},
   "source": [
    "26. Implement a function to find the mode of a list of numbers.\n"
   ]
  },
  {
   "cell_type": "code",
   "execution_count": 32,
   "id": "229f8b45",
   "metadata": {},
   "outputs": [
    {
     "name": "stdout",
     "output_type": "stream",
     "text": [
      "Mode(s): [4]\n"
     ]
    }
   ],
   "source": [
    "from collections import Counter\n",
    "\n",
    "def find_mode(lst):\n",
    "    counter = Counter(lst)\n",
    "    max_count = max(counter.values())\n",
    "    modes = [num for num, count in counter.items() if count == max_count]\n",
    "    return modes\n",
    "\n",
    "# Example usage\n",
    "numbers = [1, 2, 2, 3, 3, 3, 4, 4, 4, 4]\n",
    "mode = find_mode(numbers)\n",
    "print(\"Mode(s):\", mode)\n"
   ]
  },
  {
   "cell_type": "markdown",
   "id": "315401ef",
   "metadata": {},
   "source": [
    "27. Write a program to find the greatest common divisor (GCD) of two numbers."
   ]
  },
  {
   "cell_type": "code",
   "execution_count": 33,
   "id": "742bc76f",
   "metadata": {},
   "outputs": [
    {
     "name": "stdout",
     "output_type": "stream",
     "text": [
      "GCD of 24 and 36 is: 12\n"
     ]
    }
   ],
   "source": [
    "def find_gcd(a, b):\n",
    "    while b != 0:\n",
    "        a, b = b, a % b\n",
    "    return a\n",
    "\n",
    "# Example usage\n",
    "num1 = 24\n",
    "num2 = 36\n",
    "gcd = find_gcd(num1, num2)\n",
    "print(\"GCD of\", num1, \"and\", num2, \"is:\", gcd)\n"
   ]
  },
  {
   "cell_type": "markdown",
   "id": "1d2769e1",
   "metadata": {},
   "source": [
    "28. Implement a function to calculate the square root of a given number."
   ]
  },
  {
   "cell_type": "code",
   "execution_count": 34,
   "id": "eab0e5a4",
   "metadata": {},
   "outputs": [
    {
     "name": "stdout",
     "output_type": "stream",
     "text": [
      "Square root of 25 is: 5.000000000053722\n"
     ]
    }
   ],
   "source": [
    "def calculate_square_root(n):\n",
    "    if n < 0:\n",
    "        return None\n",
    "    guess = n\n",
    "    while abs(guess * guess - n) > 1e-9:\n",
    "        guess = (guess + n / guess) / 2\n",
    "    return guess\n",
    "\n",
    "# Example usage\n",
    "number = 25\n",
    "square_root = calculate_square_root(number)\n",
    "if square_root is not None:\n",
    "    print(\"Square root of\", number, \"is:\", square_root)\n",
    "else:\n",
    "    print(\"Cannot calculate square root of a negative number.\")\n"
   ]
  },
  {
   "cell_type": "markdown",
   "id": "66065a3d",
   "metadata": {},
   "source": [
    "29. Write a Python program to check if a given string is a valid palindrome ignoring non-alphanumeric characters.\n"
   ]
  },
  {
   "cell_type": "code",
   "execution_count": 35,
   "id": "b1e0c338",
   "metadata": {},
   "outputs": [
    {
     "name": "stdout",
     "output_type": "stream",
     "text": [
      "The string is a valid palindrome.\n"
     ]
    }
   ],
   "source": [
    "import re\n",
    "\n",
    "def is_valid_palindrome(input_string):\n",
    "    alphanumeric_string = re.sub(r'[^a-zA-Z0-9]', '', input_string.lower())\n",
    "    return alphanumeric_string == alphanumeric_string[::-1]\n",
    "\n",
    "# Example usage\n",
    "string = \"A man, a plan, a canal: Panama\"\n",
    "if is_valid_palindrome(string):\n",
    "    print(\"The string is a valid palindrome.\")\n",
    "else:\n",
    "    print(\"The string is not a valid palindrome.\")\n"
   ]
  },
  {
   "cell_type": "markdown",
   "id": "391cf614",
   "metadata": {},
   "source": [
    "30. Implement a function to find the minimum element in a rotated sorted list."
   ]
  },
  {
   "cell_type": "code",
   "execution_count": 36,
   "id": "2059c1c2",
   "metadata": {},
   "outputs": [
    {
     "name": "stdout",
     "output_type": "stream",
     "text": [
      "Minimum element: 0\n"
     ]
    }
   ],
   "source": [
    "def find_minimum_element_rotated_sorted(lst):\n",
    "    left = 0\n",
    "    right = len(lst) - 1\n",
    "    while left < right:\n",
    "        mid = left + (right - left) // 2\n",
    "        if lst[mid] > lst[right]:\n",
    "            left = mid + 1\n",
    "        else:\n",
    "            right = mid\n",
    "    return lst[left]\n",
    "\n",
    "# Example usage\n",
    "my_list = [4, 5, 6, 7, 0, 1, 2]\n",
    "minimum = find_minimum_element_rotated_sorted(my_list)\n",
    "print(\"Minimum element:\", minimum)\n"
   ]
  },
  {
   "cell_type": "markdown",
   "id": "ede2f52d",
   "metadata": {},
   "source": [
    "31. Write a program to find the sum of all even numbers in a list.\n"
   ]
  },
  {
   "cell_type": "code",
   "execution_count": 48,
   "id": "91e219c4",
   "metadata": {},
   "outputs": [
    {
     "name": "stdout",
     "output_type": "stream",
     "text": [
      "Sum of even numbers: 30\n"
     ]
    }
   ],
   "source": [
    "def sum_of_even_numbers(lst):\n",
    "    return sum(num for num in lst if num % 2 == 0)\n",
    "\n",
    "# Example usage\n",
    "my_list = [1, 2, 3, 4, 5, 6, 7, 8, 9, 10]\n",
    "sum_of_evens = sum_of_even_numbers(my_list)\n",
    "print(\"Sum of even numbers:\", sum_of_evens)\n"
   ]
  },
  {
   "cell_type": "markdown",
   "id": "40237cd2",
   "metadata": {},
   "source": [
    "32. Implement a function to calculate the power of a number using recursion."
   ]
  },
  {
   "cell_type": "code",
   "execution_count": 47,
   "id": "7716e0c1",
   "metadata": {},
   "outputs": [
    {
     "name": "stdout",
     "output_type": "stream",
     "text": [
      "2 raised to the power of 5 is: 32\n"
     ]
    }
   ],
   "source": [
    "def power(base, exponent):\n",
    "    if exponent == 0:\n",
    "        return 1\n",
    "    elif exponent < 0:\n",
    "        return 1 / power(base, -exponent)\n",
    "    else:\n",
    "        return base * power(base, exponent - 1)\n",
    "\n",
    "# Example usage\n",
    "base = 2\n",
    "exponent = 5\n",
    "result = power(base, exponent)\n",
    "print(base, \"raised to the power of\", exponent, \"is:\", result)\n"
   ]
  },
  {
   "cell_type": "markdown",
   "id": "51f3b5ea",
   "metadata": {},
   "source": [
    "33. Write a Python program to remove duplicates from a list while preserving the order."
   ]
  },
  {
   "cell_type": "code",
   "execution_count": 46,
   "id": "a42818e4",
   "metadata": {},
   "outputs": [
    {
     "name": "stdout",
     "output_type": "stream",
     "text": [
      "List with duplicates removed while preserving order: [1, 2, 3, 4, 5]\n"
     ]
    }
   ],
   "source": [
    "def remove_duplicates_preserve_order(lst):\n",
    "    seen = set()\n",
    "    return [num for num in lst if not (num in seen or seen.add(num))]\n",
    "\n",
    "# Example usage\n",
    "my_list = [1, 2, 3, 2, 4, 1, 3, 4, 4, 5]\n",
    "unique_list = remove_duplicates_preserve_order(my_list)\n",
    "print(\"List with duplicates removed while preserving order:\", unique_list)\n"
   ]
  },
  {
   "cell_type": "markdown",
   "id": "f6ec80d8",
   "metadata": {},
   "source": [
    "34. Implement a function to find the longest common prefix among a list of strings.\n"
   ]
  },
  {
   "cell_type": "code",
   "execution_count": 45,
   "id": "bb7105e1",
   "metadata": {},
   "outputs": [
    {
     "name": "stdout",
     "output_type": "stream",
     "text": [
      "Longest common prefix: fl\n"
     ]
    }
   ],
   "source": [
    "def find_longest_common_prefix(strings):\n",
    "    if not strings:\n",
    "        return \"\"\n",
    "    shortest_string = min(strings, key=len)\n",
    "    for i, char in enumerate(shortest_string):\n",
    "        for other_string in strings:\n",
    "            if other_string[i] != char:\n",
    "                return shortest_string[:i]\n",
    "    return shortest_string\n",
    "\n",
    "# Example usage\n",
    "string_list = [\"flower\", \"flow\", \"flight\"]\n",
    "common_prefix = find_longest_common_prefix(string_list)\n",
    "print(\"Longest common prefix:\", common_prefix)\n"
   ]
  },
  {
   "cell_type": "markdown",
   "id": "57be1c9b",
   "metadata": {},
   "source": [
    "35. Write a program to check if a given number is a perfect square."
   ]
  },
  {
   "cell_type": "code",
   "execution_count": 44,
   "id": "ad941be7",
   "metadata": {},
   "outputs": [
    {
     "name": "stdout",
     "output_type": "stream",
     "text": [
      "16 is a perfect square.\n"
     ]
    }
   ],
   "source": [
    "def is_perfect_square(n):\n",
    "    if n < 0:\n",
    "        return False\n",
    "    root = int(n ** 0.5)\n",
    "    return root * root == n\n",
    "\n",
    "# Example usage\n",
    "number = 16\n",
    "if is_perfect_square(number):\n",
    "    print(number, \"is a perfect square.\")\n",
    "else:\n",
    "    print(number, \"is not a perfect square.\")\n"
   ]
  },
  {
   "cell_type": "markdown",
   "id": "c5fa407f",
   "metadata": {},
   "source": [
    "36. Implement a function to calculate the product of all elements in a list."
   ]
  },
  {
   "cell_type": "code",
   "execution_count": 43,
   "id": "9a671b65",
   "metadata": {},
   "outputs": [
    {
     "name": "stdout",
     "output_type": "stream",
     "text": [
      "Product of elements: 120\n"
     ]
    }
   ],
   "source": [
    "from functools import reduce\n",
    "import operator\n",
    "\n",
    "def product_of_elements(lst):\n",
    "    return reduce(operator.mul, lst, 1)\n",
    "\n",
    "# Example usage\n",
    "my_list = [1, 2, 3, 4, 5]\n",
    "product = product_of_elements(my_list)\n",
    "print(\"Product of elements:\", product)\n"
   ]
  },
  {
   "cell_type": "markdown",
   "id": "4159e8f6",
   "metadata": {},
   "source": [
    "37. Write a Python program to reverse the order of words in a sentence while preserving the word order."
   ]
  },
  {
   "cell_type": "code",
   "execution_count": 42,
   "id": "c7c8975d",
   "metadata": {},
   "outputs": [
    {
     "name": "stdout",
     "output_type": "stream",
     "text": [
      "Reversed sentence: day nice a Have World! Hello,\n"
     ]
    }
   ],
   "source": [
    "def reverse_words(sentence):\n",
    "    words = sentence.split()\n",
    "    reversed_sentence = ' '.join(reversed(words))\n",
    "    return reversed_sentence\n",
    "\n",
    "# Example usage\n",
    "sentence = \"Hello, World! Have a nice day\"\n",
    "reversed_sentence = reverse_words(sentence)\n",
    "print(\"Reversed sentence:\", reversed_sentence)\n"
   ]
  },
  {
   "cell_type": "markdown",
   "id": "2e541f70",
   "metadata": {},
   "source": [
    "38. Implement a function to find the missing number in a given list of consecutive numbers.\n"
   ]
  },
  {
   "cell_type": "code",
   "execution_count": 38,
   "id": "0c7bb84b",
   "metadata": {},
   "outputs": [
    {
     "name": "stdout",
     "output_type": "stream",
     "text": [
      "Missing number: 4\n"
     ]
    }
   ],
   "source": [
    "def find_missing_number(lst):\n",
    "    n = len(lst) + 1\n",
    "    expected_sum = n * (n + 1) // 2\n",
    "    actual_sum = sum(lst)\n",
    "    return expected_sum - actual_sum\n",
    "\n",
    "# Example usage\n",
    "numbers = [1, 2, 3, 5, 6]\n",
    "missing_number = find_missing_number(numbers)\n",
    "print(\"Missing number:\", missing_number)\n"
   ]
  },
  {
   "cell_type": "markdown",
   "id": "4edcca4f",
   "metadata": {},
   "source": [
    "39. Write a program to find the sum of digits of a given number.\n"
   ]
  },
  {
   "cell_type": "code",
   "execution_count": 41,
   "id": "7d839b3a",
   "metadata": {},
   "outputs": [
    {
     "name": "stdout",
     "output_type": "stream",
     "text": [
      "Enter the number: 45648\n",
      "Sum of digits: 27\n"
     ]
    }
   ],
   "source": [
    "def sum_of_digits(number):\n",
    "    return sum(int(digit) for digit in str(number))\n",
    "\n",
    "# Example usage\n",
    "number = input(\"Enter the number: \")\n",
    "digit_sum = sum_of_digits(number)\n",
    "print(\"Sum of digits:\", digit_sum)\n"
   ]
  },
  {
   "cell_type": "markdown",
   "id": "f7a3c336",
   "metadata": {},
   "source": [
    "40. Implement a function to check if a given string is a valid palindrome considering case sensitivity."
   ]
  },
  {
   "cell_type": "code",
   "execution_count": 56,
   "id": "e4170eea",
   "metadata": {},
   "outputs": [
    {
     "name": "stdout",
     "output_type": "stream",
     "text": [
      "The string is not a valid palindrome.\n"
     ]
    }
   ],
   "source": [
    "def is_valid_palindrome_case_sensitive(input_string):\n",
    "    return input_string == input_string[::-1]\n",
    "\n",
    "# Example usage\n",
    "string = \"Madam\"\n",
    "if is_valid_palindrome_case_sensitive(string):\n",
    "    print(\"The string is a valid palindrome.\")\n",
    "else:\n",
    "    print(\"The string is not a valid palindrome.\")\n"
   ]
  },
  {
   "cell_type": "markdown",
   "id": "2389ab38",
   "metadata": {},
   "source": [
    "41. Write a Python program to find the smallest missing positive integer in a list."
   ]
  },
  {
   "cell_type": "code",
   "execution_count": 55,
   "id": "d098872f",
   "metadata": {},
   "outputs": [
    {
     "name": "stdout",
     "output_type": "stream",
     "text": [
      "Smallest missing positive integer: 6\n"
     ]
    }
   ],
   "source": [
    "def find_smallest_missing_positive(lst):\n",
    "    positive_numbers = set(num for num in lst if num > 0)\n",
    "    n = len(positive_numbers) + 1\n",
    "    for i in range(1, n+1):\n",
    "        if i not in positive_numbers:\n",
    "            return i\n",
    "    return n\n",
    "\n",
    "# Example usage\n",
    "numbers = [3, 5, -1, 1, 2, 4]\n",
    "smallest_missing = find_smallest_missing_positive(numbers)\n",
    "print(\"Smallest missing positive integer:\", smallest_missing)\n"
   ]
  },
  {
   "cell_type": "markdown",
   "id": "e4c4d4f2",
   "metadata": {},
   "source": [
    "42. Implement a function to find the longest palindrome substring in a given string."
   ]
  },
  {
   "cell_type": "code",
   "execution_count": 54,
   "id": "fa2ca9db",
   "metadata": {},
   "outputs": [
    {
     "name": "stdout",
     "output_type": "stream",
     "text": [
      "Longest palindrome substring: bab\n"
     ]
    }
   ],
   "source": [
    "def find_longest_palindrome_substring(input_string):\n",
    "    longest_palindrome = ''\n",
    "    for i in range(len(input_string)):\n",
    "        for j in range(i, len(input_string)):\n",
    "            substring = input_string[i:j+1]\n",
    "            if substring == substring[::-1] and len(substring) > len(longest_palindrome):\n",
    "                longest_palindrome = substring\n",
    "    return longest_palindrome\n",
    "\n",
    "# Example usage\n",
    "string = \"babad\"\n",
    "longest_palindrome = find_longest_palindrome_substring(string)\n",
    "print(\"Longest palindrome substring:\", longest_palindrome)\n"
   ]
  },
  {
   "cell_type": "markdown",
   "id": "90a446c5",
   "metadata": {},
   "source": [
    "43. Write a program to find the number of occurrences of a given element in a list.\n"
   ]
  },
  {
   "cell_type": "code",
   "execution_count": 53,
   "id": "64a218aa",
   "metadata": {},
   "outputs": [
    {
     "name": "stdout",
     "output_type": "stream",
     "text": [
      "Number of occurrences of 4 : 3\n"
     ]
    }
   ],
   "source": [
    "def count_occurrences(lst, element):\n",
    "    return lst.count(element)\n",
    "\n",
    "# Example usage\n",
    "my_list = [1, 2, 3, 2, 4, 1, 3, 4, 4, 5]\n",
    "element = 4\n",
    "occurrences = count_occurrences(my_list, element)\n",
    "print(\"Number of occurrences of\", element, \":\", occurrences)\n"
   ]
  },
  {
   "cell_type": "markdown",
   "id": "3ea1a068",
   "metadata": {},
   "source": [
    "44. Implement a function to check if a given number is a perfect number.\n"
   ]
  },
  {
   "cell_type": "code",
   "execution_count": 52,
   "id": "169e1530",
   "metadata": {},
   "outputs": [
    {
     "name": "stdout",
     "output_type": "stream",
     "text": [
      "28 is a perfect number.\n"
     ]
    }
   ],
   "source": [
    "def is_perfect_number(number):\n",
    "    if number < 2:\n",
    "        return False\n",
    "    factors = [1]\n",
    "    for i in range(2, int(number**0.5) + 1):\n",
    "        if number % i == 0:\n",
    "            factors.append(i)\n",
    "            factors.append(number // i)\n",
    "    return sum(factors) == number\n",
    "\n",
    "# Example usage\n",
    "num = 28\n",
    "if is_perfect_number(num):\n",
    "    print(num, \"is a perfect number.\")\n",
    "else:\n",
    "    print(num, \"is not a perfect number.\")\n"
   ]
  },
  {
   "cell_type": "markdown",
   "id": "9a9859ba",
   "metadata": {},
   "source": [
    "45. Write a Python program to remove all duplicates from a string."
   ]
  },
  {
   "cell_type": "code",
   "execution_count": 51,
   "id": "151bb766",
   "metadata": {},
   "outputs": [
    {
     "name": "stdout",
     "output_type": "stream",
     "text": [
      "String without duplicates: !ro,ldHeW \n"
     ]
    }
   ],
   "source": [
    "def remove_duplicates_from_string(input_string):\n",
    "    return ''.join(set(input_string))\n",
    "\n",
    "# Example usage\n",
    "string = \"Hello, World!\"\n",
    "new_string = remove_duplicates_from_string(string)\n",
    "print(\"String without duplicates:\", new_string)\n"
   ]
  },
  {
   "cell_type": "markdown",
   "id": "376e58af",
   "metadata": {},
   "source": [
    "46. Implement a function to find the first missing positive\n"
   ]
  },
  {
   "cell_type": "code",
   "execution_count": 50,
   "id": "ae2396f8",
   "metadata": {},
   "outputs": [
    {
     "name": "stdout",
     "output_type": "stream",
     "text": [
      "First missing positive number: 2\n"
     ]
    }
   ],
   "source": [
    "def find_first_missing_positive(lst):\n",
    "    n = len(lst)\n",
    "    for i in range(n):\n",
    "        while 1 <= lst[i] <= n and lst[lst[i] - 1] != lst[i]:\n",
    "            lst[lst[i] - 1], lst[i] = lst[i], lst[lst[i] - 1]\n",
    "    for i in range(n):\n",
    "        if lst[i] != i + 1:\n",
    "            return i + 1\n",
    "    return n + 1\n",
    "\n",
    "# Example usage\n",
    "numbers = [3, 4, -1, 1]\n",
    "first_missing = find_first_missing_positive(numbers)\n",
    "print(\"First missing positive number:\", first_missing)\n"
   ]
  }
 ],
 "metadata": {
  "kernelspec": {
   "display_name": "Python 3 (ipykernel)",
   "language": "python",
   "name": "python3"
  },
  "language_info": {
   "codemirror_mode": {
    "name": "ipython",
    "version": 3
   },
   "file_extension": ".py",
   "mimetype": "text/x-python",
   "name": "python",
   "nbconvert_exporter": "python",
   "pygments_lexer": "ipython3",
   "version": "3.9.13"
  }
 },
 "nbformat": 4,
 "nbformat_minor": 5
}
